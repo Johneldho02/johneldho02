{
 "cells": [
  {
   "cell_type": "code",
   "execution_count": 1,
   "id": "9ebbf660",
   "metadata": {},
   "outputs": [],
   "source": [
    "import numpy as np\n",
    "import pandas as pd\n",
    "import matplotlib.pyplot as plt\n",
    "import seaborn as sns"
   ]
  },
  {
   "cell_type": "markdown",
   "id": "192b59f6",
   "metadata": {},
   "source": [
    "###  Loading the dataset"
   ]
  },
  {
   "cell_type": "code",
   "execution_count": 2,
   "id": "ba35c0f0",
   "metadata": {},
   "outputs": [
    {
     "data": {
      "text/html": [
       "<div>\n",
       "<style scoped>\n",
       "    .dataframe tbody tr th:only-of-type {\n",
       "        vertical-align: middle;\n",
       "    }\n",
       "\n",
       "    .dataframe tbody tr th {\n",
       "        vertical-align: top;\n",
       "    }\n",
       "\n",
       "    .dataframe thead th {\n",
       "        text-align: right;\n",
       "    }\n",
       "</style>\n",
       "<table border=\"1\" class=\"dataframe\">\n",
       "  <thead>\n",
       "    <tr style=\"text-align: right;\">\n",
       "      <th></th>\n",
       "      <th>Year</th>\n",
       "      <th>Price</th>\n",
       "    </tr>\n",
       "  </thead>\n",
       "  <tbody>\n",
       "    <tr>\n",
       "      <th>0</th>\n",
       "      <td>2018</td>\n",
       "      <td>465000</td>\n",
       "    </tr>\n",
       "    <tr>\n",
       "      <th>1</th>\n",
       "      <td>2019</td>\n",
       "      <td>755000</td>\n",
       "    </tr>\n",
       "    <tr>\n",
       "      <th>2</th>\n",
       "      <td>2019</td>\n",
       "      <td>700000</td>\n",
       "    </tr>\n",
       "    <tr>\n",
       "      <th>3</th>\n",
       "      <td>2018</td>\n",
       "      <td>465000</td>\n",
       "    </tr>\n",
       "    <tr>\n",
       "      <th>4</th>\n",
       "      <td>2018</td>\n",
       "      <td>465000</td>\n",
       "    </tr>\n",
       "    <tr>\n",
       "      <th>...</th>\n",
       "      <td>...</td>\n",
       "      <td>...</td>\n",
       "    </tr>\n",
       "    <tr>\n",
       "      <th>107</th>\n",
       "      <td>2016</td>\n",
       "      <td>375000</td>\n",
       "    </tr>\n",
       "    <tr>\n",
       "      <th>108</th>\n",
       "      <td>2014</td>\n",
       "      <td>300000</td>\n",
       "    </tr>\n",
       "    <tr>\n",
       "      <th>109</th>\n",
       "      <td>2015</td>\n",
       "      <td>425000</td>\n",
       "    </tr>\n",
       "    <tr>\n",
       "      <th>110</th>\n",
       "      <td>2016</td>\n",
       "      <td>420000</td>\n",
       "    </tr>\n",
       "    <tr>\n",
       "      <th>111</th>\n",
       "      <td>2015</td>\n",
       "      <td>425000</td>\n",
       "    </tr>\n",
       "  </tbody>\n",
       "</table>\n",
       "<p>112 rows × 2 columns</p>\n",
       "</div>"
      ],
      "text/plain": [
       "     Year   Price\n",
       "0    2018  465000\n",
       "1    2019  755000\n",
       "2    2019  700000\n",
       "3    2018  465000\n",
       "4    2018  465000\n",
       "..    ...     ...\n",
       "107  2016  375000\n",
       "108  2014  300000\n",
       "109  2015  425000\n",
       "110  2016  420000\n",
       "111  2015  425000\n",
       "\n",
       "[112 rows x 2 columns]"
      ]
     },
     "execution_count": 2,
     "metadata": {},
     "output_type": "execute_result"
    }
   ],
   "source": [
    "data=pd.read_csv(r\"C:\\John\\ICTAK\\Data Science and Analytics\\Assignments\\car_age_price.csv\")\n",
    "data"
   ]
  },
  {
   "cell_type": "markdown",
   "id": "5be68a09",
   "metadata": {},
   "source": [
    "###  It is clear that there are no missing values in this dataset."
   ]
  },
  {
   "cell_type": "code",
   "execution_count": 3,
   "id": "5ae033f3",
   "metadata": {},
   "outputs": [
    {
     "name": "stdout",
     "output_type": "stream",
     "text": [
      "<class 'pandas.core.frame.DataFrame'>\n",
      "RangeIndex: 112 entries, 0 to 111\n",
      "Data columns (total 2 columns):\n",
      " #   Column  Non-Null Count  Dtype\n",
      "---  ------  --------------  -----\n",
      " 0   Year    112 non-null    int64\n",
      " 1   Price   112 non-null    int64\n",
      "dtypes: int64(2)\n",
      "memory usage: 1.9 KB\n"
     ]
    }
   ],
   "source": [
    "data.info()"
   ]
  },
  {
   "cell_type": "code",
   "execution_count": 4,
   "id": "ae223c88",
   "metadata": {},
   "outputs": [
    {
     "data": {
      "text/html": [
       "<div>\n",
       "<style scoped>\n",
       "    .dataframe tbody tr th:only-of-type {\n",
       "        vertical-align: middle;\n",
       "    }\n",
       "\n",
       "    .dataframe tbody tr th {\n",
       "        vertical-align: top;\n",
       "    }\n",
       "\n",
       "    .dataframe thead th {\n",
       "        text-align: right;\n",
       "    }\n",
       "</style>\n",
       "<table border=\"1\" class=\"dataframe\">\n",
       "  <thead>\n",
       "    <tr style=\"text-align: right;\">\n",
       "      <th></th>\n",
       "      <th>Year</th>\n",
       "      <th>Price</th>\n",
       "    </tr>\n",
       "  </thead>\n",
       "  <tbody>\n",
       "    <tr>\n",
       "      <th>count</th>\n",
       "      <td>112.000000</td>\n",
       "      <td>112.000000</td>\n",
       "    </tr>\n",
       "    <tr>\n",
       "      <th>mean</th>\n",
       "      <td>2016.669643</td>\n",
       "      <td>483866.044643</td>\n",
       "    </tr>\n",
       "    <tr>\n",
       "      <th>std</th>\n",
       "      <td>1.629616</td>\n",
       "      <td>91217.450533</td>\n",
       "    </tr>\n",
       "    <tr>\n",
       "      <th>min</th>\n",
       "      <td>2013.000000</td>\n",
       "      <td>300000.000000</td>\n",
       "    </tr>\n",
       "    <tr>\n",
       "      <th>25%</th>\n",
       "      <td>2015.000000</td>\n",
       "      <td>423750.000000</td>\n",
       "    </tr>\n",
       "    <tr>\n",
       "      <th>50%</th>\n",
       "      <td>2017.000000</td>\n",
       "      <td>500000.000000</td>\n",
       "    </tr>\n",
       "    <tr>\n",
       "      <th>75%</th>\n",
       "      <td>2017.000000</td>\n",
       "      <td>550000.000000</td>\n",
       "    </tr>\n",
       "    <tr>\n",
       "      <th>max</th>\n",
       "      <td>2020.000000</td>\n",
       "      <td>755000.000000</td>\n",
       "    </tr>\n",
       "  </tbody>\n",
       "</table>\n",
       "</div>"
      ],
      "text/plain": [
       "              Year          Price\n",
       "count   112.000000     112.000000\n",
       "mean   2016.669643  483866.044643\n",
       "std       1.629616   91217.450533\n",
       "min    2013.000000  300000.000000\n",
       "25%    2015.000000  423750.000000\n",
       "50%    2017.000000  500000.000000\n",
       "75%    2017.000000  550000.000000\n",
       "max    2020.000000  755000.000000"
      ]
     },
     "execution_count": 4,
     "metadata": {},
     "output_type": "execute_result"
    }
   ],
   "source": [
    "data.describe()"
   ]
  },
  {
   "cell_type": "code",
   "execution_count": 5,
   "id": "2f9560ab",
   "metadata": {},
   "outputs": [
    {
     "data": {
      "text/plain": [
       "Year\n",
       "2017    47\n",
       "2015    22\n",
       "2019    12\n",
       "2018    11\n",
       "2016     6\n",
       "2014     6\n",
       "2020     4\n",
       "2013     4\n",
       "Name: count, dtype: int64"
      ]
     },
     "execution_count": 5,
     "metadata": {},
     "output_type": "execute_result"
    }
   ],
   "source": [
    "data['Year'].value_counts()"
   ]
  },
  {
   "cell_type": "code",
   "execution_count": 6,
   "id": "a60238fe",
   "metadata": {},
   "outputs": [
    {
     "data": {
      "text/plain": [
       "array([[<Axes: title={'center': 'Year'}>,\n",
       "        <Axes: title={'center': 'Price'}>]], dtype=object)"
      ]
     },
     "execution_count": 6,
     "metadata": {},
     "output_type": "execute_result"
    },
    {
     "data": {
      "image/png": "[encoded data removed]",
      "text/plain": [
       "<Figure size 500x500 with 2 Axes>"
      ]
     },
     "metadata": {},
     "output_type": "display_data"
    }
   ],
   "source": [
    "data.hist(figsize=(5,5))"
   ]
  },
  {
   "cell_type": "markdown",
   "id": "bea720b7",
   "metadata": {},
   "source": [
    "### Through this boxplot, it is clear that there is only 1 outlier in the dataset, which is in the Year column"
   ]
  },
  {
   "cell_type": "code",
   "execution_count": 7,
   "id": "c8bd4a85",
   "metadata": {},
   "outputs": [
    {
     "data": {
      "image/png": "[encoded data removed]",
      "text/plain": [
       "<Figure size 640x480 with 1 Axes>"
      ]
     },
     "metadata": {},
     "output_type": "display_data"
    }
   ],
   "source": [
    "plt.boxplot(data[['Year','Price']]);"
   ]
  },
  {
   "cell_type": "markdown",
   "id": "ee2ae3b3",
   "metadata": {},
   "source": [
    "### To clip the outlier into the dataset, we must find the Interquartile Range (IQR), Upper and Lower limits"
   ]
  },
  {
   "cell_type": "code",
   "execution_count": 9,
   "id": "06106cb8",
   "metadata": {},
   "outputs": [
    {
     "name": "stdout",
     "output_type": "stream",
     "text": [
      "Q1 is  422500.0\n",
      "Q2 is  500000.0\n",
      "Q3 is  550000.0\n",
      "IQR is  127500.0\n",
      "Upper limit is 741250.0\n",
      "Lower limit is  231250.0\n"
     ]
    }
   ],
   "source": [
    "Q1=np.percentile(data['Price'],25,method='midpoint')\n",
    "Q2=np.percentile(data['Price'],50,method='midpoint')\n",
    "Q3=np.percentile(data['Price'],75,method='midpoint')\n",
    "\n",
    "print('Q1 is ',Q1)\n",
    "print('Q2 is ',Q2)\n",
    "print('Q3 is ',Q3)\n",
    "\n",
    "IQR=Q3-Q1\n",
    "up_lim=Q3+1.5*IQR\n",
    "low_lim=Q1-1.5*IQR\n",
    "\n",
    "print('IQR is ',IQR)\n",
    "print('Upper limit is',up_lim)\n",
    "print('Lower limit is ',low_lim)"
   ]
  },
  {
   "cell_type": "markdown",
   "id": "cbf6a1ed",
   "metadata": {},
   "source": [
    "### After finding those values, we then find the outlier in the dataset"
   ]
  },
  {
   "cell_type": "code",
   "execution_count": 10,
   "id": "2beb4ae5",
   "metadata": {},
   "outputs": [
    {
     "name": "stdout",
     "output_type": "stream",
     "text": [
      "[755000]\n"
     ]
    }
   ],
   "source": [
    "outliers=[]\n",
    "for i in data['Price']:\n",
    "    if (i<low_lim) or (i>up_lim):\n",
    "        outliers.append(i)\n",
    "\n",
    "print(outliers)"
   ]
  },
  {
   "cell_type": "markdown",
   "id": "55fc0151",
   "metadata": {},
   "source": [
    "### Cliping the outlier into the data"
   ]
  },
  {
   "cell_type": "code",
   "execution_count": 11,
   "id": "1738bdf1",
   "metadata": {},
   "outputs": [],
   "source": [
    "data['Price']=data['Price'].clip(lower=low_lim,upper=up_lim)"
   ]
  },
  {
   "cell_type": "markdown",
   "id": "81c78bab",
   "metadata": {},
   "source": [
    "### Confirming that the dataset has no more outliers"
   ]
  },
  {
   "cell_type": "code",
   "execution_count": 12,
   "id": "a2e2dca7",
   "metadata": {},
   "outputs": [
    {
     "name": "stdout",
     "output_type": "stream",
     "text": [
      "[]\n"
     ]
    }
   ],
   "source": [
    "outliers=[]\n",
    "for i in data['Price']:\n",
    "    if (i<low_lim) or (i>up_lim):\n",
    "        outliers.append(i)\n",
    "\n",
    "print(outliers)"
   ]
  },
  {
   "cell_type": "markdown",
   "id": "834f5e58",
   "metadata": {},
   "source": [
    "### A heatmap showing the correlation between the Year and Price columns\n",
    "### 0.78 implies a strong positive correlation between the 2 features (since the value is closer to 1), and thus, we can create a model between these features"
   ]
  },
  {
   "cell_type": "code",
   "execution_count": 13,
   "id": "d95e7c52",
   "metadata": {},
   "outputs": [
    {
     "data": {
      "text/plain": [
       "<Axes: >"
      ]
     },
     "execution_count": 13,
     "metadata": {},
     "output_type": "execute_result"
    },
    {
     "data": {
      "image/png": "[encoded data removed]",
      "text/plain": [
       "<Figure size 640x480 with 2 Axes>"
      ]
     },
     "metadata": {},
     "output_type": "display_data"
    }
   ],
   "source": [
    "sns.heatmap(data.corr(),annot=True)"
   ]
  },
  {
   "cell_type": "markdown",
   "id": "025f854d",
   "metadata": {},
   "source": [
    "### Labeling the target and independent variables"
   ]
  },
  {
   "cell_type": "code",
   "execution_count": 15,
   "id": "6a32120e",
   "metadata": {},
   "outputs": [],
   "source": [
    "x=data.drop(['Price'],axis=1)\n",
    "y=data['Price']"
   ]
  },
  {
   "cell_type": "code",
   "execution_count": 16,
   "id": "03630dc6",
   "metadata": {},
   "outputs": [],
   "source": [
    "from sklearn.model_selection import train_test_split\n",
    "x_train,x_test,y_train,y_test=train_test_split(x,y,random_state=42,test_size=.25)"
   ]
  },
  {
   "cell_type": "code",
   "execution_count": 14,
   "id": "9503bede",
   "metadata": {},
   "outputs": [],
   "source": [
    "from sklearn import linear_model"
   ]
  },
  {
   "cell_type": "markdown",
   "id": "8fc08a20",
   "metadata": {},
   "source": [
    "### Creating the model using Linear Regression"
   ]
  },
  {
   "cell_type": "code",
   "execution_count": 17,
   "id": "72a60493",
   "metadata": {},
   "outputs": [],
   "source": [
    "lin_reg=linear_model.LinearRegression()"
   ]
  },
  {
   "cell_type": "code",
   "execution_count": 18,
   "id": "6509b6a9",
   "metadata": {},
   "outputs": [],
   "source": [
    "lin_model=lin_reg.fit(x_train,y_train)"
   ]
  },
  {
   "cell_type": "code",
   "execution_count": 19,
   "id": "7d4a1a2e",
   "metadata": {},
   "outputs": [
    {
     "data": {
      "text/plain": [
       "array([598677.74065064, 505035.55134371, 551856.64599717, 551856.64599717,\n",
       "       551856.64599717, 411393.36203676, 505035.55134371, 551856.64599717,\n",
       "       598677.74065064, 598677.74065064, 317751.17272983, 505035.55134371,\n",
       "       411393.36203676, 645498.8353041 , 551856.64599717, 598677.74065064,\n",
       "       317751.17272983, 411393.36203676, 505035.55134371, 505035.55134371,\n",
       "       505035.55134371, 505035.55134371, 505035.55134371, 505035.55134371,\n",
       "       505035.55134371, 505035.55134371, 411393.36203676, 411393.36203676])"
      ]
     },
     "execution_count": 19,
     "metadata": {},
     "output_type": "execute_result"
    }
   ],
   "source": [
    "lin_pred=lin_model.predict(x_test)\n",
    "lin_pred"
   ]
  },
  {
   "cell_type": "code",
   "execution_count": 21,
   "id": "fa6cd447",
   "metadata": {},
   "outputs": [
    {
     "name": "stdout",
     "output_type": "stream",
     "text": [
      "R2 Score using Linear Regression is  0.4377021333036414\n"
     ]
    }
   ],
   "source": [
    "from sklearn.metrics import r2_score\n",
    "print('R2 Score using Linear Regression is ',r2_score(y_test,lin_pred))"
   ]
  },
  {
   "cell_type": "markdown",
   "id": "532a2424",
   "metadata": {},
   "source": [
    "### Creating the model using Lasso Regression"
   ]
  },
  {
   "cell_type": "code",
   "execution_count": 22,
   "id": "0a13e22c",
   "metadata": {},
   "outputs": [],
   "source": [
    "las_reg=linear_model.Lasso(alpha=0.1)"
   ]
  },
  {
   "cell_type": "code",
   "execution_count": 23,
   "id": "8c70063c",
   "metadata": {},
   "outputs": [],
   "source": [
    "las_model=las_reg.fit(x_train,y_train)"
   ]
  },
  {
   "cell_type": "code",
   "execution_count": 24,
   "id": "1a134551",
   "metadata": {},
   "outputs": [
    {
     "data": {
      "text/plain": [
       "array([598677.6441754 , 505035.53471005, 551856.58944272, 551856.58944272,\n",
       "       551856.58944272, 411393.4252447 , 505035.53471005, 551856.58944272,\n",
       "       598677.6441754 , 598677.6441754 , 317751.31577936, 505035.53471005,\n",
       "       411393.4252447 , 645498.69890806, 551856.58944272, 598677.6441754 ,\n",
       "       317751.31577936, 411393.4252447 , 505035.53471005, 505035.53471005,\n",
       "       505035.53471005, 505035.53471005, 505035.53471005, 505035.53471005,\n",
       "       505035.53471005, 505035.53471005, 411393.4252447 , 411393.4252447 ])"
      ]
     },
     "execution_count": 24,
     "metadata": {},
     "output_type": "execute_result"
    }
   ],
   "source": [
    "las_pred=las_model.predict(x_test)\n",
    "las_pred"
   ]
  },
  {
   "cell_type": "code",
   "execution_count": 25,
   "id": "49d4e935",
   "metadata": {},
   "outputs": [
    {
     "name": "stdout",
     "output_type": "stream",
     "text": [
      "R2 Score using Lasso Regression is  0.43770258249973315\n"
     ]
    }
   ],
   "source": [
    "print('R2 Score using Lasso Regression is ',r2_score(y_test,las_pred))"
   ]
  },
  {
   "cell_type": "markdown",
   "id": "fda04d92",
   "metadata": {},
   "source": [
    "## R squared value of the model using Lasso Regression is not significantly greater than that of the model using Linear Regression.\n",
    "## So it is clear that both models are performing almost equally with the R squared value 0.43"
   ]
  },
  {
   "cell_type": "code",
   "execution_count": 26,
   "id": "e81f2187",
   "metadata": {},
   "outputs": [
    {
     "data": {
      "text/plain": [
       "array([[2022]])"
      ]
     },
     "execution_count": 26,
     "metadata": {},
     "output_type": "execute_result"
    }
   ],
   "source": [
    "yr=np.array([[2022]])\n",
    "yr"
   ]
  },
  {
   "cell_type": "markdown",
   "id": "918a834b",
   "metadata": {},
   "source": [
    "Using Linear Regression"
   ]
  },
  {
   "cell_type": "code",
   "execution_count": 27,
   "id": "6b2f9f63",
   "metadata": {},
   "outputs": [
    {
     "name": "stderr",
     "output_type": "stream",
     "text": [
      "C:\\Users\\johne\\anaconda3\\Lib\\site-packages\\sklearn\\base.py:464: UserWarning: X does not have valid feature names, but LinearRegression was fitted with feature names\n",
      "  warnings.warn(\n"
     ]
    },
    {
     "data": {
      "text/plain": [
       "array([739141.02461103])"
      ]
     },
     "execution_count": 27,
     "metadata": {},
     "output_type": "execute_result"
    }
   ],
   "source": [
    "yr_pred=lin_model.predict(yr)\n",
    "yr_pred"
   ]
  },
  {
   "cell_type": "markdown",
   "id": "f1f24d81",
   "metadata": {},
   "source": [
    "Using Lasso Regression"
   ]
  },
  {
   "cell_type": "code",
   "execution_count": 28,
   "id": "afd8ec5d",
   "metadata": {},
   "outputs": [
    {
     "name": "stderr",
     "output_type": "stream",
     "text": [
      "C:\\Users\\johne\\anaconda3\\Lib\\site-packages\\sklearn\\base.py:464: UserWarning: X does not have valid feature names, but Lasso was fitted with feature names\n",
      "  warnings.warn(\n"
     ]
    },
    {
     "data": {
      "text/plain": [
       "array([739140.80837341])"
      ]
     },
     "execution_count": 28,
     "metadata": {},
     "output_type": "execute_result"
    }
   ],
   "source": [
    "yrpred2=las_model.predict(yr)\n",
    "yrpred2"
   ]
  },
  {
   "cell_type": "markdown",
   "id": "99ab98f8",
   "metadata": {},
   "source": [
    "# So by both models, the predicted price of a 2022 model second-hand grand i10 is around 739140 units."
   ]
  }
 ],
 "metadata": {
  "kernelspec": {
   "display_name": "Python 3 (ipykernel)",
   "language": "python",
   "name": "python3"
  },
  "language_info": {
   "codemirror_mode": {
    "name": "ipython",
    "version": 3
   },
   "file_extension": ".py",
   "mimetype": "text/x-python",
   "name": "python",
   "nbconvert_exporter": "python",
   "pygments_lexer": "ipython3",
   "version": "3.11.5"
  }
 },
 "nbformat": 4,
 "nbformat_minor": 5
}
